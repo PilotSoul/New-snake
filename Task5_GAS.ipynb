{
 "cells": [
  {
   "cell_type": "markdown",
   "metadata": {},
   "source": [
    "# Практическая работа 6"
   ]
  },
  {
   "cell_type": "markdown",
   "metadata": {},
   "source": [
    "## Задача 1"
   ]
  },
  {
   "cell_type": "code",
   "execution_count": 1,
   "metadata": {},
   "outputs": [
    {
     "name": "stdout",
     "output_type": "stream",
     "text": [
      "2\n",
      "1.25\n"
     ]
    }
   ],
   "source": [
    "n = int(input())\n",
    "summa = 0\n",
    "\n",
    "for i in range(1,n + 1):\n",
    "    summa += 1 / i ** 2\n",
    "\n",
    "print(summa)"
   ]
  },
  {
   "cell_type": "markdown",
   "metadata": {},
   "source": [
    "## Задача 2"
   ]
  },
  {
   "cell_type": "code",
   "execution_count": 2,
   "metadata": {},
   "outputs": [
    {
     "name": "stdout",
     "output_type": "stream",
     "text": [
      "4.002\n",
      "0.002\n"
     ]
    }
   ],
   "source": [
    "x = float(input())\n",
    "print(('{:.3f}'.format(x - int(x))))"
   ]
  },
  {
   "cell_type": "markdown",
   "metadata": {},
   "source": [
    "## Задача 3"
   ]
  },
  {
   "cell_type": "code",
   "execution_count": 3,
   "metadata": {},
   "outputs": [
    {
     "name": "stdout",
     "output_type": "stream",
     "text": [
      "3.67\n",
      "3 67\n"
     ]
    }
   ],
   "source": [
    "from decimal import Decimal\n",
    "\n",
    "x = input()\n",
    "x = Decimal(x)\n",
    "a = int(x)\n",
    "b = int(100 * (x - a))\n",
    "print(a, b)  "
   ]
  },
  {
   "cell_type": "markdown",
   "metadata": {},
   "source": [
    "## Задача 4"
   ]
  },
  {
   "cell_type": "code",
   "execution_count": 4,
   "metadata": {},
   "outputs": [
    {
     "name": "stdout",
     "output_type": "stream",
     "text": [
      "2.4\n",
      "2\n"
     ]
    }
   ],
   "source": [
    "import math\n",
    "\n",
    "a = float(input())\n",
    "b = math.ceil(a)\n",
    "if b - a <=0.5:\n",
    "    print(math.ceil(a))\n",
    "else:\n",
    "    print(math.floor(a))"
   ]
  },
  {
   "cell_type": "markdown",
   "metadata": {},
   "source": [
    "## Задача 5"
   ]
  },
  {
   "cell_type": "code",
   "execution_count": 5,
   "metadata": {},
   "outputs": [
    {
     "name": "stdout",
     "output_type": "stream",
     "text": [
      "12\n",
      "179\n",
      "0\n",
      "200 48\n"
     ]
    }
   ],
   "source": [
    "p = int(input())\n",
    "x = int(input())\n",
    "y = int(input())\n",
    "\n",
    "start = 100 * x + y\n",
    "end = int(start * (100 + p) / 100)\n",
    "print(end // 100, end % 100)"
   ]
  },
  {
   "cell_type": "markdown",
   "metadata": {},
   "source": [
    "## Задача 6"
   ]
  },
  {
   "cell_type": "code",
   "execution_count": 7,
   "metadata": {},
   "outputs": [
    {
     "name": "stdout",
     "output_type": "stream",
     "text": [
      "12\n",
      "179\n",
      "0\n",
      "5\n",
      "315 45\n"
     ]
    }
   ],
   "source": [
    "p = int(input())\n",
    "x = int(input())\n",
    "y = int(input())\n",
    "k = int(input())\n",
    "i = 1\n",
    "\n",
    "summa = x * 100 + y\n",
    "p1 = 100 + p\n",
    "while i <= k:\n",
    "    n = summa * p1 / 100\n",
    "    summa = n\n",
    "    i += 1\n",
    "print(int(summa / 100), int(summa % 100))"
   ]
  },
  {
   "cell_type": "markdown",
   "metadata": {},
   "source": [
    "## Задача 7"
   ]
  },
  {
   "cell_type": "code",
   "execution_count": 10,
   "metadata": {},
   "outputs": [
    {
     "name": "stdout",
     "output_type": "stream",
     "text": [
      "1\n",
      "0.000\n",
      "1.000\n",
      "1.000\n",
      "1\n"
     ]
    }
   ],
   "source": [
    "n = int(input())\n",
    "x = float(input())\n",
    "p = 0\n",
    "while n > 0:\n",
    "    a = float(input())\n",
    "    p = (p + a) * x\n",
    "    n -= 1\n",
    "a = float(input())\n",
    "p += a\n",
    "print(int(p))"
   ]
  },
  {
   "cell_type": "markdown",
   "metadata": {},
   "source": [
    "## Задача 8"
   ]
  },
  {
   "cell_type": "code",
   "execution_count": 11,
   "metadata": {},
   "outputs": [
    {
     "name": "stdout",
     "output_type": "stream",
     "text": [
      "1\n",
      "2\n",
      "3\n",
      "0\n",
      "1.0\n"
     ]
    }
   ],
   "source": [
    "from math import sqrt\n",
    " \n",
    "summa = 0\n",
    "summa_kv = 0\n",
    "i = int(input())\n",
    "n = 0\n",
    "while i != 0:\n",
    "    n += 1\n",
    "    summa += i\n",
    "    summa_kv += i ** 2\n",
    "    i = int(input())\n",
    "print(sqrt((summa_kv - summa ** 2 / n) / (n - 1)))"
   ]
  },
  {
   "cell_type": "markdown",
   "metadata": {},
   "source": [
    "## Задача 9"
   ]
  },
  {
   "cell_type": "code",
   "execution_count": 13,
   "metadata": {},
   "outputs": [
    {
     "name": "stdout",
     "output_type": "stream",
     "text": [
      "1\n",
      "-1\n",
      "-2\n",
      "-1 2\n"
     ]
    }
   ],
   "source": [
    "a = int(input())\n",
    "b = float(input())\n",
    "c = float(input())\n",
    "D = b ** 2 - 4 * a * c\n",
    "if D > 0:\n",
    "    x1 = (-b + math.sqrt(D)) / (2 * a)\n",
    "    x2 = (-b - math.sqrt(D)) / (2 * a)\n",
    "    if x1 > x2:\n",
    "        print(int(x2), int(x1))\n",
    "    else:\n",
    "        print(int(x1), int(x2))\n",
    "elif D == 0:\n",
    "    x1 = (-b) / (2 * a)\n",
    "    print(int(x1))"
   ]
  },
  {
   "cell_type": "markdown",
   "metadata": {},
   "source": [
    "## Задача 10"
   ]
  },
  {
   "cell_type": "code",
   "execution_count": 15,
   "metadata": {},
   "outputs": [
    {
     "name": "stdout",
     "output_type": "stream",
     "text": [
      "1\n",
      "2\n",
      "1\n",
      "1 -1\n"
     ]
    }
   ],
   "source": [
    "a = float(input())\n",
    "b = float(input())\n",
    "c = float(input())  \n",
    "if a == 0:\n",
    "    if b == 0 and c == 0:\n",
    "        print(3)\n",
    "    if b != 0 and (c != 0 or c == 0):\n",
    "        x1 = -(c / b)\n",
    "        print(1,int(x1))\n",
    "    if b == 0 and c != 0:\n",
    "        print(0)\n",
    "else:\n",
    "    D = ((b) ** 2) - (4 * a * c)\n",
    "    if D > 0:\n",
    "        x2 = ((-b) - (D ** 0.5)) / (2 * a)\n",
    "        x3 = ((-b) + (D ** 0.5)) / (2 * a)\n",
    "        if x2 < x3:\n",
    "            x3, x2 = x2, x3\n",
    "        print(2,int(x3),int(x2))\n",
    "    elif D == 0:\n",
    "        x4 = (-b) / (2 * a)\n",
    "        print(1,int(x4))\n",
    "    elif D < 0:\n",
    "        print(0)"
   ]
  },
  {
   "cell_type": "markdown",
   "metadata": {},
   "source": [
    "## Задача 11"
   ]
  },
  {
   "cell_type": "code",
   "execution_count": 16,
   "metadata": {},
   "outputs": [
    {
     "name": "stdout",
     "output_type": "stream",
     "text": [
      "1\n",
      "0\n",
      "0\n",
      "1\n",
      "3\n",
      "3\n",
      "3 3\n"
     ]
    }
   ],
   "source": [
    "a = float(input())\n",
    "b = float(input())\n",
    "c = float(input())\n",
    "d = float(input())\n",
    "e = float(input())\n",
    "f = float(input())\n",
    "if b != 0:\n",
    "    y = (c * e - a * f) / (b * c - a * d)\n",
    "    if c != 0:\n",
    "        x = (f - d * y) / c\n",
    "        print(int(x), int(y))\n",
    "else:\n",
    "    if a != 0:\n",
    "        x = (f * b - d * e) / (b * c - d * a)\n",
    "        if d != 0:\n",
    "            y = (f - c * x) / d\n",
    "            print(int(x), int(y))"
   ]
  },
  {
   "cell_type": "markdown",
   "metadata": {},
   "source": [
    "## Задача 12"
   ]
  },
  {
   "cell_type": "code",
   "execution_count": 17,
   "metadata": {},
   "outputs": [
    {
     "name": "stdout",
     "output_type": "stream",
     "text": [
      "1\n",
      "0\n",
      "0\n",
      "1\n",
      "3\n",
      "3\n",
      "2 3 3\n"
     ]
    }
   ],
   "source": [
    "a = float(input())\n",
    "b = float(input())\n",
    "c = float(input())\n",
    "d = float(input())\n",
    "e = float(input())\n",
    "f = float(input())\n",
    "x = 0\n",
    "y = 0\n",
    "det=a*d-b*c\n",
    "\n",
    "if (det==0):\n",
    "    if ((a==0 and c==0 and e/b!=f/d) or (b==0 and d==0 and e/a!=f/c)):\n",
    "        print(0)\n",
    "\n",
    "    if ((a==0 and c==0 and e/b==f/d)):\n",
    "        print(3, e/b)\n",
    "\n",
    "    if ((b==0 and d==0 and e/a==f/c)):\n",
    "        print(4, e/a)\n",
    "\n",
    "    if (c*b/a-d==0):\n",
    "        print(5, -a/b, e/b)\n",
    "        y=(f-c*e*1./a)/(c*b*1./a-d)\n",
    "        x=(e-b*y)/a\n",
    "    print(1, int(x), int(y))\n",
    "\n",
    "detx=e*d-b*f\n",
    "dety=a*f-e*c\n",
    "x=detx/det\n",
    "y=dety/det\n",
    "print(2, int(x), int(y))"
   ]
  },
  {
   "cell_type": "markdown",
   "metadata": {},
   "source": [
    "## Задача 13"
   ]
  },
  {
   "cell_type": "code",
   "execution_count": 1,
   "metadata": {},
   "outputs": [
    {
     "name": "stdout",
     "output_type": "stream",
     "text": [
      "Abrakadabra\n",
      "r\n",
      "r\n",
      "Abrak\n",
      "Abrakadab\n",
      "Arkdba\n",
      "baaar\n",
      "arbadakarbA\n",
      "abdkrA\n",
      "11\n"
     ]
    }
   ],
   "source": [
    "s = input()\n",
    "print(s[2])\n",
    "print(s[-2])\n",
    "print(s[:5])\n",
    "print(s[:-2])\n",
    "print(s[::2])\n",
    "print(s[1::2])\n",
    "print(s[::-1])\n",
    "print(s[::-2])\n",
    "print(len(s))"
   ]
  },
  {
   "cell_type": "markdown",
   "metadata": {},
   "source": [
    "## Задача 14"
   ]
  },
  {
   "cell_type": "code",
   "execution_count": 2,
   "metadata": {},
   "outputs": [
    {
     "name": "stdout",
     "output_type": "stream",
     "text": [
      "comfort\n",
      "3\n"
     ]
    }
   ],
   "source": [
    "s = input()\n",
    "a = s.find('f')\n",
    "b = s.find('f')\n",
    "if a == -1:\n",
    "    print()\n",
    "elif a == b:\n",
    "    print(a)\n",
    "else:\n",
    "    print(a, b)"
   ]
  },
  {
   "cell_type": "markdown",
   "metadata": {},
   "source": [
    "## Задача 15"
   ]
  },
  {
   "cell_type": "code",
   "execution_count": 3,
   "metadata": {},
   "outputs": [
    {
     "name": "stdout",
     "output_type": "stream",
     "text": [
      "In the hole in the ground there lived a hobbit\n",
      "In tobbit\n"
     ]
    }
   ],
   "source": [
    "s = input()\n",
    "s = s[:s.find('h')] + s[s.rfind('h') + 1:]\n",
    "print(s)"
   ]
  },
  {
   "cell_type": "markdown",
   "metadata": {},
   "source": [
    "## Задача 16"
   ]
  },
  {
   "cell_type": "code",
   "execution_count": 5,
   "metadata": {},
   "outputs": [
    {
     "name": "stdout",
     "output_type": "stream",
     "text": [
      "qwertyhasdfghzxcvb\n",
      "qwertyhgfdsahzxcvb\n"
     ]
    }
   ],
   "source": [
    "s = input()\n",
    "a = s[:s.find('h')] \n",
    "b = s[s.find('h'):s.rfind('h') + 1]\n",
    "c = s[s.rfind('h') + 1:]\n",
    "s = a + b[::-1] + c\n",
    "print(s)"
   ]
  },
  {
   "cell_type": "markdown",
   "metadata": {},
   "source": [
    "## Задача 17"
   ]
  },
  {
   "cell_type": "code",
   "execution_count": 6,
   "metadata": {},
   "outputs": [
    {
     "name": "stdout",
     "output_type": "stream",
     "text": [
      "comfort\n",
      "-1\n"
     ]
    }
   ],
   "source": [
    "a=input()\n",
    "num=0\n",
    "for i in range(len(a)):\n",
    "    if a[i]==\"f\":\n",
    "        num+=1\n",
    "        if num==2:\n",
    "            print(i)\n",
    "            \n",
    "if num==1:\n",
    "        print('-1')\n",
    "elif \"f\" not in a:\n",
    "    print('-2')"
   ]
  },
  {
   "cell_type": "markdown",
   "metadata": {},
   "source": [
    "## Задача 18"
   ]
  },
  {
   "cell_type": "code",
   "execution_count": 7,
   "metadata": {},
   "outputs": [
    {
     "name": "stdout",
     "output_type": "stream",
     "text": [
      "trek hello\n",
      "hello trek\n"
     ]
    }
   ],
   "source": [
    "s = input()\n",
    "first_word = s[:s.find(' ')]\n",
    "second_word = s[s.find(' ') + 1:]\n",
    "print(second_word + ' ' + first_word)"
   ]
  },
  {
   "cell_type": "markdown",
   "metadata": {},
   "source": [
    "## Задача 19"
   ]
  },
  {
   "cell_type": "code",
   "execution_count": 8,
   "metadata": {},
   "outputs": [
    {
     "name": "stdout",
     "output_type": "stream",
     "text": [
      "hello\n",
      "1\n"
     ]
    }
   ],
   "source": [
    "print(input().count(' ') + 1)"
   ]
  },
  {
   "cell_type": "markdown",
   "metadata": {},
   "source": [
    "## Задача 20"
   ]
  },
  {
   "cell_type": "code",
   "execution_count": 9,
   "metadata": {},
   "outputs": [
    {
     "name": "stdout",
     "output_type": "stream",
     "text": [
      "1+1=2\n",
      "one+one=2\n"
     ]
    }
   ],
   "source": [
    "print(input().replace('1', 'one'))"
   ]
  },
  {
   "cell_type": "markdown",
   "metadata": {},
   "source": [
    "## Задача 21"
   ]
  },
  {
   "cell_type": "code",
   "execution_count": 11,
   "metadata": {},
   "outputs": [
    {
     "name": "stdout",
     "output_type": "stream",
     "text": [
      "Srtr.yt@Dagf\n",
      "Srtr.ytDagf\n"
     ]
    }
   ],
   "source": [
    "print(input().replace('@', ''))"
   ]
  },
  {
   "cell_type": "markdown",
   "metadata": {},
   "source": [
    "## Задача 22"
   ]
  },
  {
   "cell_type": "code",
   "execution_count": 12,
   "metadata": {},
   "outputs": [
    {
     "name": "stdout",
     "output_type": "stream",
     "text": [
      "In the hole in the ground there lived a hobbit\n",
      "In the Hole in tHe ground tHere lived a hobbit\n"
     ]
    }
   ],
   "source": [
    "s = input()\n",
    "a = s[:s.find('h') + 1] \n",
    "b = s[s.find('h') + 1:s.rfind('h')]\n",
    "c = s[s.rfind('h'):]\n",
    "s = a + b.replace('h', 'H') + c\n",
    "print(s)"
   ]
  },
  {
   "cell_type": "markdown",
   "metadata": {},
   "source": [
    "## Задача 23"
   ]
  },
  {
   "cell_type": "code",
   "execution_count": 14,
   "metadata": {},
   "outputs": [
    {
     "name": "stdout",
     "output_type": "stream",
     "text": [
      "Python\n",
      "P*y*t*h*o*n\n"
     ]
    }
   ],
   "source": [
    "a=input()\n",
    "for i in range(len(list(a))-1):\n",
    "    print(a[i],end=\"*\")\n",
    " \n",
    "print(a[len(list(a))-1])"
   ]
  },
  {
   "cell_type": "markdown",
   "metadata": {},
   "source": [
    "## Задача 24"
   ]
  },
  {
   "cell_type": "code",
   "execution_count": 15,
   "metadata": {},
   "outputs": [
    {
     "name": "stdout",
     "output_type": "stream",
     "text": [
      "Hello\n",
      "elo\n"
     ]
    }
   ],
   "source": [
    "s = input()\n",
    "t = ''\n",
    "for i in range(len(s)):\n",
    "    if i % 3 != 0:\n",
    "        t = t + s[i]\n",
    "print(t)"
   ]
  }
 ],
 "metadata": {
  "kernelspec": {
   "display_name": "Python 3",
   "language": "python",
   "name": "python3"
  },
  "language_info": {
   "codemirror_mode": {
    "name": "ipython",
    "version": 3
   },
   "file_extension": ".py",
   "mimetype": "text/x-python",
   "name": "python",
   "nbconvert_exporter": "python",
   "pygments_lexer": "ipython3",
   "version": "3.8.2"
  }
 },
 "nbformat": 4,
 "nbformat_minor": 4
}
