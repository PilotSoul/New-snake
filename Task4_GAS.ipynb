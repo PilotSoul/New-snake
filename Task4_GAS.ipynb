{
 "cells": [
  {
   "cell_type": "markdown",
   "metadata": {},
   "source": [
    "# Практическая работа 5"
   ]
  },
  {
   "cell_type": "markdown",
   "metadata": {},
   "source": [
    "## Задача 1"
   ]
  },
  {
   "cell_type": "code",
   "execution_count": 1,
   "metadata": {
    "scrolled": true
   },
   "outputs": [
    {
     "name": "stdout",
     "output_type": "stream",
     "text": [
      "67\n",
      "1\n",
      "4\n",
      "9\n",
      "16\n",
      "25\n",
      "36\n",
      "49\n",
      "64\n"
     ]
    }
   ],
   "source": [
    "n = int(input())\n",
    "i = 1\n",
    "\n",
    "while i ** 2 <= n:\n",
    "    print(i ** 2)\n",
    "    i += 1"
   ]
  },
  {
   "cell_type": "markdown",
   "metadata": {},
   "source": [
    "## Задача 2"
   ]
  },
  {
   "cell_type": "code",
   "execution_count": 1,
   "metadata": {},
   "outputs": [
    {
     "name": "stdout",
     "output_type": "stream",
     "text": [
      "15\n",
      "3\n"
     ]
    }
   ],
   "source": [
    "n = int(input())\n",
    "i = 2\n",
    "while i <= n:\n",
    "    if n % i == 0:\n",
    "        print(i)\n",
    "        break\n",
    "    i += 1"
   ]
  },
  {
   "cell_type": "markdown",
   "metadata": {},
   "source": [
    "## Задача 3"
   ]
  },
  {
   "cell_type": "code",
   "execution_count": 4,
   "metadata": {},
   "outputs": [
    {
     "name": "stdout",
     "output_type": "stream",
     "text": [
      "17\n",
      "1\n",
      "2\n",
      "4\n",
      "8\n",
      "16\n"
     ]
    }
   ],
   "source": [
    "n = int(input())\n",
    "i = 1\n",
    "while i <= n:\n",
    "    print(i)\n",
    "    i *= 2"
   ]
  },
  {
   "cell_type": "markdown",
   "metadata": {},
   "source": [
    "## Задача 4"
   ]
  },
  {
   "cell_type": "code",
   "execution_count": 5,
   "metadata": {},
   "outputs": [
    {
     "name": "stdout",
     "output_type": "stream",
     "text": [
      "4\n",
      "YES\n"
     ]
    }
   ],
   "source": [
    "n = int(input())\n",
    "i = 1\n",
    "while i < n:\n",
    "    i *= 2\n",
    "if i == n:\n",
    "    i *= 2\n",
    "    print('YES')\n",
    "else:\n",
    "    print('NO')"
   ]
  },
  {
   "cell_type": "markdown",
   "metadata": {},
   "source": [
    "## Задача 5"
   ]
  },
  {
   "cell_type": "code",
   "execution_count": 6,
   "metadata": {},
   "outputs": [
    {
     "name": "stdout",
     "output_type": "stream",
     "text": [
      "17\n",
      "5\n"
     ]
    }
   ],
   "source": [
    "n = int(input())\n",
    "i = 1\n",
    "k = 0\n",
    "while i * 2 < n:\n",
    "    i *= 2\n",
    "    k += 1\n",
    "if n == 1:\n",
    "    print(0)\n",
    "else:\n",
    "    print(k+1)"
   ]
  },
  {
   "cell_type": "markdown",
   "metadata": {},
   "source": [
    "## Задача 6"
   ]
  },
  {
   "cell_type": "code",
   "execution_count": 7,
   "metadata": {},
   "outputs": [
    {
     "name": "stdout",
     "output_type": "stream",
     "text": [
      "10\n",
      "20\n",
      "9\n"
     ]
    }
   ],
   "source": [
    "x = int(input())\n",
    "y = int(input())\n",
    "i = 1\n",
    "while x < y:\n",
    "    x *= 1.1\n",
    "    i += 1\n",
    "print(i)"
   ]
  },
  {
   "cell_type": "markdown",
   "metadata": {},
   "source": [
    "## Задача 7"
   ]
  },
  {
   "cell_type": "code",
   "execution_count": 8,
   "metadata": {},
   "outputs": [
    {
     "name": "stdout",
     "output_type": "stream",
     "text": [
      "5\n",
      "7\n",
      "3\n",
      "9\n",
      "0\n",
      "9\n"
     ]
    }
   ],
   "source": [
    "maximum = 0\n",
    "ch = 1\n",
    "while ch != 0:\n",
    "    ch = int(input())\n",
    "    if ch > maximum:\n",
    "        maximum = ch\n",
    "print(maximum)"
   ]
  },
  {
   "cell_type": "markdown",
   "metadata": {},
   "source": [
    "## Задача 8"
   ]
  },
  {
   "cell_type": "code",
   "execution_count": 9,
   "metadata": {},
   "outputs": [
    {
     "name": "stdout",
     "output_type": "stream",
     "text": [
      "4\n",
      "30\n"
     ]
    }
   ],
   "source": [
    "n = int(input()) \n",
    "sum = 0\n",
    "for i in range(1, n + 1):\n",
    "    sum += i ** 2\n",
    " \n",
    "print(sum)"
   ]
  },
  {
   "cell_type": "markdown",
   "metadata": {},
   "source": [
    "## Задача 9"
   ]
  },
  {
   "cell_type": "code",
   "execution_count": 11,
   "metadata": {},
   "outputs": [
    {
     "name": "stdout",
     "output_type": "stream",
     "text": [
      "1\n",
      "4\n",
      "6\n",
      "3\n",
      "4\n",
      "0\n",
      "\n",
      "5\n"
     ]
    }
   ],
   "source": [
    "k = 0\n",
    "ch = 1\n",
    "while ch != 0:\n",
    "    ch = int(input())\n",
    "    k +=1\n",
    "print()\n",
    "print(k - 1)"
   ]
  },
  {
   "cell_type": "markdown",
   "metadata": {},
   "source": [
    "## Задача 10"
   ]
  },
  {
   "cell_type": "code",
   "execution_count": 12,
   "metadata": {},
   "outputs": [
    {
     "name": "stdout",
     "output_type": "stream",
     "text": [
      "1\n",
      "7\n",
      "9\n",
      "0\n",
      "17\n"
     ]
    }
   ],
   "source": [
    "sum = 0\n",
    "ch = 1\n",
    "while ch != 0:\n",
    "    ch = int(input())\n",
    "    sum += ch\n",
    "print(sum)"
   ]
  },
  {
   "cell_type": "markdown",
   "metadata": {},
   "source": [
    "## Задача 11"
   ]
  },
  {
   "cell_type": "code",
   "execution_count": 13,
   "metadata": {},
   "outputs": [
    {
     "name": "stdout",
     "output_type": "stream",
     "text": [
      "1\n",
      "7\n",
      "9\n",
      "0\n",
      "5.666666666666667\n"
     ]
    }
   ],
   "source": [
    "sum = 0\n",
    "ch = 1\n",
    "k = 0\n",
    "while ch != 0:\n",
    "    ch = int(input())\n",
    "    sum += ch\n",
    "    k += 1\n",
    "print(sum/(k-1))"
   ]
  },
  {
   "cell_type": "markdown",
   "metadata": {},
   "source": [
    "## Задача 12"
   ]
  },
  {
   "cell_type": "code",
   "execution_count": 14,
   "metadata": {},
   "outputs": [
    {
     "name": "stdout",
     "output_type": "stream",
     "text": [
      "1\n",
      "2\n",
      "4\n",
      "0\n",
      "2\n"
     ]
    }
   ],
   "source": [
    "ch = 1\n",
    "k = 0\n",
    "while ch != 0:\n",
    "    ch = int(input())\n",
    "    if ch % 2 == 0:\n",
    "        k += 1\n",
    "print(k-1)"
   ]
  },
  {
   "cell_type": "markdown",
   "metadata": {},
   "source": [
    "## Задача 13"
   ]
  },
  {
   "cell_type": "code",
   "execution_count": 15,
   "metadata": {},
   "outputs": [
    {
     "name": "stdout",
     "output_type": "stream",
     "text": [
      "1\n",
      "2\n",
      "3\n",
      "45\n",
      "0\n",
      "3\n"
     ]
    }
   ],
   "source": [
    "ch = 1\n",
    "k = 0\n",
    "m = 10000000\n",
    "while ch != 0:\n",
    "    ch = int(input())\n",
    "    if ch > m:\n",
    "        k += 1\n",
    "    m = ch\n",
    "print(k)"
   ]
  },
  {
   "cell_type": "markdown",
   "metadata": {},
   "source": [
    "## Задача 14"
   ]
  },
  {
   "cell_type": "code",
   "execution_count": 16,
   "metadata": {},
   "outputs": [
    {
     "name": "stdout",
     "output_type": "stream",
     "text": [
      "2\n",
      "1\n",
      "0\n",
      "1\n"
     ]
    }
   ],
   "source": [
    "el1 = el2 = 0\n",
    "a = int(input())\n",
    "while a != 0:\n",
    "    if a >= el1:\n",
    "        el2 = el1\n",
    "        el1 = a\n",
    "    if el2 < a and a < el1:\n",
    "        el2 = a\n",
    "    a = int(input())\n",
    "print(el2)"
   ]
  },
  {
   "cell_type": "markdown",
   "metadata": {},
   "source": [
    "## Задача 15"
   ]
  },
  {
   "cell_type": "code",
   "execution_count": 17,
   "metadata": {},
   "outputs": [
    {
     "name": "stdout",
     "output_type": "stream",
     "text": [
      "1\n",
      "2\n",
      "3\n",
      "4\n",
      "3\n",
      "7\n",
      "6\n",
      "7\n",
      "7\n",
      "0\n",
      "3\n"
     ]
    }
   ],
   "source": [
    "maximum = 0\n",
    "k = 0\n",
    "ch = 1\n",
    "while ch != 0:\n",
    "    ch = int(input())\n",
    "    if ch > maximum:\n",
    "        maximum = ch\n",
    "        k = 1\n",
    "    elif ch == maximum:\n",
    "        k += 1       \n",
    "print(k)"
   ]
  },
  {
   "cell_type": "markdown",
   "metadata": {},
   "source": [
    "## Задача 16"
   ]
  },
  {
   "cell_type": "code",
   "execution_count": 19,
   "metadata": {},
   "outputs": [
    {
     "name": "stdout",
     "output_type": "stream",
     "text": [
      "6\n",
      "8\n"
     ]
    }
   ],
   "source": [
    "n = int(input())\n",
    "if n == 0:\n",
    "    print(0)\n",
    "else:\n",
    "    a, b = 0, 1\n",
    "    for i in range(2, n + 1):\n",
    "        a, b = b, a + b\n",
    "    print(b)"
   ]
  },
  {
   "cell_type": "markdown",
   "metadata": {},
   "source": [
    "## Задача 17"
   ]
  },
  {
   "cell_type": "code",
   "execution_count": 20,
   "metadata": {},
   "outputs": [
    {
     "name": "stdout",
     "output_type": "stream",
     "text": [
      "10\n",
      "-1\n"
     ]
    }
   ],
   "source": [
    "f1=1\n",
    "f2=1\n",
    "it=2\n",
    "A = int(input())\n",
    "while f2 < A:\n",
    "  tmp=f2\n",
    "  f2 += f1\n",
    "  f1 = tmp\n",
    "  it += 1\n",
    "if f2==A:\n",
    "  print(it)\n",
    "else:\n",
    "  print(-1)"
   ]
  },
  {
   "cell_type": "markdown",
   "metadata": {},
   "source": [
    "## Задача 18"
   ]
  },
  {
   "cell_type": "code",
   "execution_count": 21,
   "metadata": {},
   "outputs": [
    {
     "name": "stdout",
     "output_type": "stream",
     "text": [
      "1024\n",
      "1\n",
      ":2\n",
      ":2\n",
      ":2\n",
      ":2\n",
      ":2\n",
      ":2\n",
      ":2\n",
      ":2\n",
      ":2\n",
      ":2\n"
     ]
    }
   ],
   "source": [
    "a, b = int(input()), int(input())\n",
    "while a!=b:\n",
    "    if (a//2>=b) and (a%2 == 0):\n",
    "        print (':2')\n",
    "        a//=2\n",
    "    else:\n",
    "        print ('-1')\n",
    "        a-=1"
   ]
  },
  {
   "cell_type": "markdown",
   "metadata": {},
   "source": [
    "## Задача 19"
   ]
  },
  {
   "cell_type": "code",
   "execution_count": 22,
   "metadata": {},
   "outputs": [
    {
     "name": "stdout",
     "output_type": "stream",
     "text": [
      "346\n",
      "643\n"
     ]
    }
   ],
   "source": [
    "n = input()\n",
    "print(n[::-1])"
   ]
  },
  {
   "cell_type": "markdown",
   "metadata": {},
   "source": [
    "## Задача 20"
   ]
  },
  {
   "cell_type": "code",
   "execution_count": 23,
   "metadata": {},
   "outputs": [
    {
     "name": "stdout",
     "output_type": "stream",
     "text": [
      "100\n",
      "18\n"
     ]
    }
   ],
   "source": [
    "n = int(input())\n",
    "k = 0\n",
    "for i in range(n):\n",
    "    if str(i) == str(i)[::-1]:\n",
    "        k += 1\n",
    "if n == 1:\n",
    "    print(1)\n",
    "else:\n",
    "    print(k - 1)"
   ]
  },
  {
   "cell_type": "markdown",
   "metadata": {},
   "source": [
    "## Задача 21"
   ]
  },
  {
   "cell_type": "code",
   "execution_count": 24,
   "metadata": {},
   "outputs": [
    {
     "name": "stdout",
     "output_type": "stream",
     "text": [
      "1\n",
      "7\n",
      "7\n",
      "9\n",
      "1\n",
      "0\n",
      "2\n"
     ]
    }
   ],
   "source": [
    "n = -1\n",
    "k = 0\n",
    "maximum = 0\n",
    "ch = int(input())\n",
    "while ch != 0:\n",
    "    if n == ch:\n",
    "        k += 1\n",
    "    else:\n",
    "        n = ch\n",
    "        maximum = max(maximum, k)\n",
    "        k = 1\n",
    "    ch = int(input())\n",
    "maximum = max(maximum, k)\n",
    "print(maximum)"
   ]
  },
  {
   "cell_type": "markdown",
   "metadata": {},
   "source": [
    "## Задача 22"
   ]
  },
  {
   "cell_type": "code",
   "execution_count": 25,
   "metadata": {},
   "outputs": [
    {
     "name": "stdout",
     "output_type": "stream",
     "text": [
      "1\n",
      "7\n",
      "7\n",
      "9\n",
      "0\n",
      "2\n"
     ]
    }
   ],
   "source": [
    "x1=int(input())\n",
    "x2=int(input())\n",
    "max=1\n",
    "n=1\n",
    "while True:\n",
    "    if x2==0 or x1==0:\n",
    "        break\n",
    "    while x1>x2:\n",
    "        if x2==0:\n",
    "            break\n",
    "        n+=1\n",
    "        if n>max:\n",
    "            max=n\n",
    "            x1=x2\n",
    "            x2=int(input())\n",
    "        else:\n",
    "            x1=x2\n",
    "            x2=int(input())\n",
    "    n=1\n",
    "    while x1<x2:\n",
    "        n+=1\n",
    "        if n>max:\n",
    "            max=n\n",
    "            x1=x2\n",
    "            x2=int(input())\n",
    "        else:\n",
    "            x1=x2\n",
    "            x2=int(input())\n",
    "    n=1\n",
    "    while x1==x2:\n",
    "        n=1\n",
    "        x1=x2\n",
    "        x2=int(input())\n",
    "print(max)"
   ]
  },
  {
   "cell_type": "markdown",
   "metadata": {},
   "source": [
    "## Задача 23"
   ]
  },
  {
   "cell_type": "code",
   "execution_count": 26,
   "metadata": {},
   "outputs": [
    {
     "name": "stdout",
     "output_type": "stream",
     "text": [
      "1\n",
      "2\n",
      "1\n",
      "1\n",
      "2\n",
      "1\n",
      "2\n",
      "1\n",
      "0\n",
      "2\n"
     ]
    }
   ],
   "source": [
    "k = 0\n",
    "n = 0\n",
    "m = 0\n",
    "x = int(input())\n",
    "y = int(input())\n",
    "z = int(input())\n",
    "\n",
    "while z:\n",
    "    k += 1\n",
    "    if y > z and x < y:\n",
    "        n += 1\n",
    "        if (n>1 and (n==2 or n>2 and k<m)):\n",
    "            m = k\n",
    "        k=0\n",
    "    x=y\n",
    "    y=z\n",
    "    z = int(input())\n",
    "print(m)"
   ]
  },
  {
   "cell_type": "markdown",
   "metadata": {},
   "source": [
    "## Задача 24"
   ]
  },
  {
   "cell_type": "code",
   "execution_count": 27,
   "metadata": {},
   "outputs": [
    {
     "name": "stdout",
     "output_type": "stream",
     "text": [
      "3\n",
      "4\n",
      "5\n",
      "6\n"
     ]
    }
   ],
   "source": [
    "a = int(input())\n",
    "b = int(input())\n",
    "c = int(input())\n",
    "p = (a + b + c) / 2  \n",
    "s = (p * (p - a) * (p - b) * (p - c))\n",
    "print(int(pow(s, 0.5)))"
   ]
  }
 ],
 "metadata": {
  "kernelspec": {
   "display_name": "Python 3",
   "language": "python",
   "name": "python3"
  },
  "language_info": {
   "codemirror_mode": {
    "name": "ipython",
    "version": 3
   },
   "file_extension": ".py",
   "mimetype": "text/x-python",
   "name": "python",
   "nbconvert_exporter": "python",
   "pygments_lexer": "ipython3",
   "version": "3.8.2"
  }
 },
 "nbformat": 4,
 "nbformat_minor": 4
}
