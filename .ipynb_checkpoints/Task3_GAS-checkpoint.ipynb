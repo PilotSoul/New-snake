{
 "cells": [
  {
   "cell_type": "markdown",
   "metadata": {},
   "source": [
    "# Практическая работа 4"
   ]
  },
  {
   "cell_type": "markdown",
   "metadata": {},
   "source": [
    "## Задача 1"
   ]
  },
  {
   "cell_type": "code",
   "execution_count": 1,
   "metadata": {},
   "outputs": [
    {
     "name": "stdout",
     "output_type": "stream",
     "text": [
      "9\n",
      "4\n",
      "9\n"
     ]
    }
   ],
   "source": [
    "a = int(input())\n",
    "b = int(input())\n",
    "if a > b:\n",
    "    print(a)\n",
    "else:\n",
    "    print(b)"
   ]
  },
  {
   "cell_type": "markdown",
   "metadata": {},
   "source": [
    "## Задача 2"
   ]
  },
  {
   "cell_type": "code",
   "execution_count": 2,
   "metadata": {},
   "outputs": [
    {
     "name": "stdout",
     "output_type": "stream",
     "text": [
      "8\n",
      "8\n",
      "0\n"
     ]
    }
   ],
   "source": [
    "a = int(input())\n",
    "b = int(input())\n",
    "if a > b:\n",
    "    print(1)\n",
    "elif a < b:\n",
    "    print(2)\n",
    "else:\n",
    "    print(0)"
   ]
  },
  {
   "cell_type": "markdown",
   "metadata": {},
   "source": [
    "## Задача 3"
   ]
  },
  {
   "cell_type": "code",
   "execution_count": 3,
   "metadata": {},
   "outputs": [
    {
     "name": "stdout",
     "output_type": "stream",
     "text": [
      "3\n",
      "2\n",
      "4\n",
      "4\n"
     ]
    }
   ],
   "source": [
    "a = int(input())\n",
    "b = int(input())\n",
    "c = int(input())\n",
    "ch = a\n",
    "if ch < b:\n",
    "   ch = b\n",
    "if ch < c:\n",
    "   ch = c\n",
    "print(ch)"
   ]
  },
  {
   "cell_type": "markdown",
   "metadata": {},
   "source": [
    "## Задача 4"
   ]
  },
  {
   "cell_type": "code",
   "execution_count": 4,
   "metadata": {},
   "outputs": [
    {
     "name": "stdout",
     "output_type": "stream",
     "text": [
      "2012\n",
      "YES\n"
     ]
    }
   ],
   "source": [
    "a = int(input())\n",
    "if (a % 4 == 0) and (a % 100 != 0) or (a % 400 == 0):\n",
    "    print('YES')\n",
    "else:\n",
    "    print('NO')"
   ]
  },
  {
   "cell_type": "markdown",
   "metadata": {},
   "source": [
    "## Задача 5"
   ]
  },
  {
   "cell_type": "code",
   "execution_count": 5,
   "metadata": {},
   "outputs": [
    {
     "name": "stdout",
     "output_type": "stream",
     "text": [
      "4\n",
      "4\n",
      "5\n",
      "5\n",
      "YES\n"
     ]
    }
   ],
   "source": [
    "x1 = int(input())\n",
    "y1 = int(input())\n",
    "x2 = int(input())\n",
    "y2 = int(input())\n",
    "\n",
    "if (x1-x2 == 1 or x1-x2  == -1 or x1-x2  == 0) and (y1-y2 == 1 or y1-y2 == -1 or y1-y2 == 0):\n",
    "    print ('YES')\n",
    "else:\n",
    "    print ('NO')"
   ]
  },
  {
   "cell_type": "markdown",
   "metadata": {},
   "source": [
    "## Задача 6"
   ]
  },
  {
   "cell_type": "code",
   "execution_count": 6,
   "metadata": {},
   "outputs": [
    {
     "name": "stdout",
     "output_type": "stream",
     "text": [
      "2\n",
      "10\n",
      "NO\n"
     ]
    }
   ],
   "source": [
    "x = int(input())\n",
    "y = int(input())\n",
    "if (y % (y-x+1))== 0:\n",
    "    print('Yes')\n",
    "else:\n",
    "    print('NO')"
   ]
  },
  {
   "cell_type": "markdown",
   "metadata": {},
   "source": [
    "## Задача 7"
   ]
  },
  {
   "cell_type": "code",
   "execution_count": 7,
   "metadata": {},
   "outputs": [
    {
     "name": "stdout",
     "output_type": "stream",
     "text": [
      "1\n",
      "1\n",
      "2\n",
      "3\n",
      "NO\n"
     ]
    }
   ],
   "source": [
    "x1 = int(input())\n",
    "y1 = int(input())\n",
    "x2 = int(input())\n",
    "y2 = int(input())\n",
    "if (x1 + y1 + x2 + y2) % 2 == 0:\n",
    "    print('YES')\n",
    "else:\n",
    "    print('NO')"
   ]
  },
  {
   "cell_type": "markdown",
   "metadata": {},
   "source": [
    "## Задача 8"
   ]
  },
  {
   "cell_type": "code",
   "execution_count": 1,
   "metadata": {},
   "outputs": [
    {
     "name": "stdout",
     "output_type": "stream",
     "text": [
      "4\n",
      "2\n",
      "6\n",
      "YES\n"
     ]
    }
   ],
   "source": [
    "n = int(input())\n",
    "m = int(input())\n",
    "k = int(input())\n",
    "if k < n * m and ((k % n == 0) or (k % m == 0)):\n",
    "    print('YES')\n",
    "else:\n",
    "    print('NO')"
   ]
  },
  {
   "cell_type": "markdown",
   "metadata": {},
   "source": [
    "## Задача 9"
   ]
  },
  {
   "cell_type": "code",
   "execution_count": 3,
   "metadata": {},
   "outputs": [
    {
     "name": "stdout",
     "output_type": "stream",
     "text": [
      "21\n",
      "21 korova\n"
     ]
    }
   ],
   "source": [
    "n = int(input())\n",
    "if n >= 11 and n <= 14:\n",
    "        print(n, 'korov')\n",
    "else:\n",
    "        k = n % 10\n",
    "        if k == 0 or (k >= 5 and k <= 9):\n",
    "                print(n, 'korov')\n",
    "        if k == 1:\n",
    "                print(n, 'korova')\n",
    "        if k >=2 and k <=4:\n",
    "                print(n, 'korovy')"
   ]
  },
  {
   "cell_type": "markdown",
   "metadata": {},
   "source": [
    "## Задача 10"
   ]
  },
  {
   "cell_type": "code",
   "execution_count": 4,
   "metadata": {},
   "outputs": [
    {
     "name": "stdout",
     "output_type": "stream",
     "text": [
      "-4\n",
      "-1\n"
     ]
    }
   ],
   "source": [
    "x = int(input())\n",
    "if x > 0:\n",
    "    print(1)\n",
    "elif x == 0:\n",
    "    print(0)\n",
    "else:\n",
    "    print(-1)"
   ]
  },
  {
   "cell_type": "markdown",
   "metadata": {},
   "source": [
    "## Задача 11"
   ]
  },
  {
   "cell_type": "code",
   "execution_count": 5,
   "metadata": {},
   "outputs": [
    {
     "name": "stdout",
     "output_type": "stream",
     "text": [
      "3\n",
      "3\n",
      "5\n",
      "1\n",
      "YES\n"
     ]
    }
   ],
   "source": [
    "x1 = int(input())\n",
    "y1 = int(input())\n",
    "x2 = int(input())\n",
    "y2 = int(input())\n",
    "if (x1*x2>0) and (y1*y2>0):\n",
    "    print('YES')\n",
    "else:\n",
    "    print('NO')"
   ]
  },
  {
   "cell_type": "markdown",
   "metadata": {},
   "source": [
    "## Задача 12"
   ]
  },
  {
   "cell_type": "code",
   "execution_count": 6,
   "metadata": {},
   "outputs": [
    {
     "name": "stdout",
     "output_type": "stream",
     "text": [
      "2\n",
      "2\n",
      "1\n",
      "1\n",
      "NO\n"
     ]
    }
   ],
   "source": [
    "v1=int(input ())\n",
    "g1=int(input ())\n",
    "v2=int(input ())\n",
    "g2=int(input ())\n",
    "\n",
    "if (g2>g1 and g2-g1> = abs(v2-v1) and ((v1%2 == v2%2 and (g2-g1) % 2 == 0) or (v1%2 != v2%2 and (g2-g1)%2 != 0))): \n",
    "    print ('YES')\n",
    "else:\n",
    "    print ('NO')"
   ]
  },
  {
   "cell_type": "markdown",
   "metadata": {},
   "source": [
    "## Задача 13"
   ]
  },
  {
   "cell_type": "code",
   "execution_count": 8,
   "metadata": {},
   "outputs": [
    {
     "name": "stdout",
     "output_type": "stream",
     "text": [
      "3\n",
      "5\n",
      "4\n",
      "rectangular\n"
     ]
    }
   ],
   "source": [
    "a = int(input())\n",
    "b = int(input())\n",
    "c = int(input())\n",
    "\n",
    "if (a + b > c) and (c + b > a) and (a + c > b):\n",
    "    if (a*a + b*b == c*c) or (a*a + c*c == b*b) or (c*c + b*b == a*a):\n",
    "        print(\"rectangular\")\n",
    "    elif (a*a + b*b < c*c) or (a*a + c*c < b*b) or (c*c + b*b < a*a):\n",
    "        print(\"obtuse\")\n",
    "    else:\n",
    "        print(\"acute\")\n",
    "else:\n",
    "    print(\"impossible\")"
   ]
  },
  {
   "cell_type": "markdown",
   "metadata": {},
   "source": [
    "## Задача 14"
   ]
  },
  {
   "cell_type": "code",
   "execution_count": 9,
   "metadata": {},
   "outputs": [
    {
     "name": "stdout",
     "output_type": "stream",
     "text": [
      "3\n",
      "4\n",
      "5\n",
      "YES\n"
     ]
    }
   ],
   "source": [
    "a = int(input())\n",
    "b = int(input())\n",
    "c = int(input())\n",
    "if (a % 2 == 0 and b % 2 != 0) or (a % 2 != 0 and b % 2 == 0):\n",
    "    print(\"YES\")\n",
    "elif (a % 2 == 0 and c % 2 != 0) or (a % 2 != 0 and c % 2 == 0):\n",
    "    print(\"YES\")\n",
    "elif (b % 2 == 0 and c % 2 != 0) or (b % 2 != 0 and c % 2 == 0):\n",
    "    print(\"YES\")\n",
    "else:\n",
    "    print(\"NO\")"
   ]
  },
  {
   "cell_type": "markdown",
   "metadata": {},
   "source": [
    "## Задача 15"
   ]
  },
  {
   "cell_type": "code",
   "execution_count": 11,
   "metadata": {},
   "outputs": [
    {
     "name": "stdout",
     "output_type": "stream",
     "text": [
      "4\n",
      "6\n",
      "1\n",
      "1 4 6\n"
     ]
    }
   ],
   "source": [
    "a, b, c = int(input()), int(input()), int(input())\n",
    "if a >= b and a >= c and b >= c:\n",
    "    print(c, b, a)\n",
    "elif a <= b and a >= c and b >= c:\n",
    "    print(c, a, b)\n",
    "elif a <= b and a <= c and b <= c:\n",
    "    print(a, b, c)\n",
    "elif a >= b and a >= c and b <= c:\n",
    "    print(b, c, a)\n",
    "elif a >= b and a <= c and b <= c:\n",
    "    print(b, a, c)\n",
    "else:\n",
    "    print(a, c, b)"
   ]
  },
  {
   "cell_type": "markdown",
   "metadata": {},
   "source": [
    "## Задача 16"
   ]
  },
  {
   "cell_type": "code",
   "execution_count": 12,
   "metadata": {},
   "outputs": [
    {
     "name": "stdout",
     "output_type": "stream",
     "text": [
      "1\n",
      "1\n",
      "2\n",
      "2\n"
     ]
    }
   ],
   "source": [
    "a = int(input())\n",
    "b = int(input())\n",
    "c = int(input())\n",
    "if a == b == c:\n",
    "    print(3)\n",
    "elif a == b or b == c or a == c:\n",
    "    print(2)\n",
    "else:\n",
    "    print(0)"
   ]
  },
  {
   "cell_type": "markdown",
   "metadata": {},
   "source": [
    "## Задача 17"
   ]
  },
  {
   "cell_type": "code",
   "execution_count": 13,
   "metadata": {},
   "outputs": [
    {
     "name": "stdout",
     "output_type": "stream",
     "text": [
      "2\n",
      "2\n",
      "2\n",
      "1\n",
      "1\n",
      "NO\n"
     ]
    }
   ],
   "source": [
    "a = int(input())\n",
    "b = int(input())\n",
    "c = int(input())\n",
    "d = int(input())\n",
    "e = int(input())\n",
    "if a <= d and b <= e or a <= e and b <= d:\n",
    "    print(\"YES\")\n",
    "elif c <= d and b <= e or c <= e and b <= d:\n",
    "    print(\"YES\")\n",
    "elif a <= d and c <= e or a <= e and c <= d:\n",
    "    print(\"YES\")\n",
    "else:\n",
    "    print(\"NO\")"
   ]
  },
  {
   "cell_type": "markdown",
   "metadata": {},
   "source": [
    "## Задача 18"
   ]
  },
  {
   "cell_type": "code",
   "execution_count": 14,
   "metadata": {},
   "outputs": [
    {
     "name": "stdout",
     "output_type": "stream",
     "text": [
      "2\n",
      "2\n",
      "3\n",
      "3\n",
      "2\n",
      "1\n",
      "The first box is larger than the second one\n"
     ]
    }
   ],
   "source": [
    "A1 = int(input())\n",
    "B1 = int(input())\n",
    "C1 = int(input())\n",
    "A2 = int(input())\n",
    "B2 = int(input())\n",
    "C2 = int(input())\n",
    "if ((A1 == A2 and B1 == B2 and C1 == C2) or\n",
    "        (A1 == A2 and B1 == C2 and C1 == B2) or\n",
    "        (A1 == C2 and B1 == A2 and C1 == B2) or\n",
    "        (A1 == B2 and B1 == A2 and C1 == C2) or\n",
    "        (A1 == B2 and B1 == C2 and C1 == A2) or\n",
    "        (A1 == C2 and B1 == B2 and C1 == A2)):\n",
    "    print('Boxes are equal')\n",
    "elif ((A1 <= A2 and B1 <= B2 and C1 <= C2) or\n",
    "        (A1 <= A2 and B1 <= C2 and C1 <= B2) or\n",
    "        (A1 <= C2 and B1 <= A2 and C1 <= B2) or\n",
    "        (A1 <= B2 and B1 <= A2 and C1 <= C2) or\n",
    "        (A1 <= B2 and B1 <= C2 and C1 <= A2) or\n",
    "        (A1 <= C2 and B1 <= B2 and C1 <= A2)):\n",
    "    print('The first box is smaller than the second one')\n",
    "elif ((A1 >= A2 and B1 >= B2 and C1 >= C2) or\n",
    "        (A1 >= A2 and B1 >= C2 and C1 >= B2) or\n",
    "        (A1 >= C2 and B1 >= A2 and C1 >= B2) or\n",
    "        (A1 >= B2 and B1 >= A2 and C1 >= C2) or\n",
    "        (A1 >= B2 and B1 >= C2 and C1 >= A2) or\n",
    "        (A1 >= C2 and B1 >= B2 and C1 >= A2)):\n",
    "    print('The first box is larger than the second one')\n",
    "else:\n",
    "    print('Boxes are incomparable')"
   ]
  },
  {
   "cell_type": "markdown",
   "metadata": {},
   "source": [
    "## Задача 19"
   ]
  },
  {
   "cell_type": "code",
   "execution_count": 15,
   "metadata": {},
   "outputs": [
    {
     "name": "stdout",
     "output_type": "stream",
     "text": [
      "100\n",
      "200\n",
      "300\n",
      "3\n",
      "2\n",
      "1\n",
      "1000000\n"
     ]
    }
   ],
   "source": [
    "a1 = int(input())\n",
    "b1 = int(input())\n",
    "c1 = int(input())\n",
    "x = int(input())\n",
    "y = int(input())\n",
    "z = int(input())\n",
    "  \n",
    "d1 = (a1 // x) * (b1 // y) * (c1 // z)\n",
    "d2 = (a1 // x) * (c1 // y) * (b1 // z)\n",
    "d3 = (b1 // x) * (c1 // y) * (a1 // z)\n",
    "d4 = (b1 // x) * (a1 // y) * (c1 // z)\n",
    "d5 = (c1 // x) * (a1 // y) * (b1 // z)\n",
    "d6 = (c1 // x) * (b1 // y) * (a1 // z)\n",
    "  \n",
    "if d1 >= d2:\n",
    "    d2 = d1\n",
    "elif d3 >= d4:\n",
    "    d4 = d2\n",
    "elif d5 >= d6:\n",
    "    d6 = d5\n",
    "if d2 >= d4 and d2 >= d6:\n",
    "    print(d2)\n",
    "elif d4 >= d6:\n",
    "    print(d4)\n",
    "else:\n",
    "    print(d6)"
   ]
  },
  {
   "cell_type": "markdown",
   "metadata": {},
   "source": [
    "## Задача 20"
   ]
  },
  {
   "cell_type": "code",
   "execution_count": 17,
   "metadata": {},
   "outputs": [
    {
     "name": "stdout",
     "output_type": "stream",
     "text": [
      "14\n",
      "YES\n"
     ]
    }
   ],
   "source": [
    "k = int(input())\n",
    "if k % 3 == 0 or k % 5 == 0 or k % 3 == 2 or k % 5 == 3:\n",
    "    print('YES')\n",
    "elif k >= 6 and (k - 6) % 5 == 0:\n",
    "    print('YES')\n",
    "elif k >= 9 and (k - 9) % 5 == 0:\n",
    "    print('YES')\n",
    "elif k >= 12 and (k - 12) % 5 == 0:\n",
    "    print('YES')\n",
    "elif k <= 4:\n",
    "    print('NO')\n",
    "else:\n",
    "    print('NO')"
   ]
  },
  {
   "cell_type": "markdown",
   "metadata": {},
   "source": [
    "## Задача 21"
   ]
  },
  {
   "cell_type": "code",
   "execution_count": 18,
   "metadata": {},
   "outputs": [
    {
     "name": "stdout",
     "output_type": "stream",
     "text": [
      "2\n",
      "-4\n",
      "7\n",
      "1\n",
      "2\n"
     ]
    }
   ],
   "source": [
    "a, b, c, d = int(input()), int(input()), int(input()), int(input())\n",
    "if a == 0 and b == 0:\n",
    "    print('INF')\n",
    "elif a == 0 or b * c == a * d:\n",
    "    print('NO')\n",
    "elif b % a == 0:\n",
    "    x = -b // a\n",
    "    print(x)\n",
    "else:\n",
    "    print('NO')"
   ]
  },
  {
   "cell_type": "markdown",
   "metadata": {},
   "source": [
    "## Задача 22"
   ]
  },
  {
   "cell_type": "code",
   "execution_count": 21,
   "metadata": {},
   "outputs": [
    {
     "name": "stdout",
     "output_type": "stream",
     "text": [
      "1\n",
      "5\n",
      "1\n",
      "10\n"
     ]
    }
   ],
   "source": [
    "k = int(input())\n",
    "m = int(input())\n",
    "n = int(input())\n",
    "res = 0\n",
    "if n < k:\n",
    "    res = 2 * m\n",
    "else:\n",
    "    res = 2 * n / k * m\n",
    "    if (2 * n % k != 0):\n",
    "        res += m\n",
    "print(int(res))"
   ]
  },
  {
   "cell_type": "markdown",
   "metadata": {},
   "source": [
    "## Задача 23"
   ]
  },
  {
   "cell_type": "code",
   "execution_count": 22,
   "metadata": {},
   "outputs": [
    {
     "name": "stdout",
     "output_type": "stream",
     "text": [
      "0\n",
      "2\n",
      "4\n",
      "5\n",
      "3\n",
      "6\n",
      "1\n"
     ]
    }
   ],
   "source": [
    "l1 = int(input())\n",
    "r1 = int(input())\n",
    "l2 = int(input())\n",
    "r2 = int(input())\n",
    "l3 = int(input())\n",
    "r3 = int(input())\n",
    " \n",
    "if (l1 >= 0) and (l1 < r1) and (r1 <= 100) and \\\n",
    "        (l2 >= 0) and (l2 < r2) and (r2 <= 100) and \\\n",
    "        (l3 >= 0) and (l3 < r3) and (r3 <= 100):\n",
    "    if ((l2 - r1) <= 1) and ((l3-r2) > 1) and (l1 < l2) and \\\n",
    "            (l2 < r3) and (l1 < r3):\n",
    "        print(3)\n",
    "    elif ((l2-r1) > 1) and ((l3-r2) > 1) and (l2-r1) <= (r3-l3):\n",
    "        print(3)\n",
    "    elif ((l2-r1) > 1) and ((l3-r2) <= 1):\n",
    "        print(1)\n",
    "    elif ((l2-r1) <= 1) and (((l3-r2) <= 1) or ((l3-r1) <= 1)):\n",
    "        print(0)\n",
    "    else:\n",
    "        print(-1)\n",
    "else:\n",
    "    print(-1)"
   ]
  },
  {
   "cell_type": "markdown",
   "metadata": {},
   "source": [
    "## Задача 24"
   ]
  },
  {
   "cell_type": "code",
   "execution_count": 23,
   "metadata": {},
   "outputs": [
    {
     "name": "stdout",
     "output_type": "stream",
     "text": [
      "1\n",
      "1\n",
      "4\n",
      "1\n",
      "1\n",
      "3\n",
      "10\n",
      "10\n",
      "3\n",
      "NO\n"
     ]
    }
   ],
   "source": [
    "l1 = int(input())\n",
    "w1 = int(input())\n",
    "h1 = int(input())\n",
    "l2 = int(input())\n",
    "w2 = int(input())\n",
    "h2 = int(input())\n",
    "lc = int(input())\n",
    "wc = int(input())\n",
    "hc = int(input())\n",
    "l = l1\n",
    "ind = True\n",
    "l=l1\n",
    "l1 = max(l1, w1)\n",
    "w1 = min(l, w1)\n",
    "l=l2\n",
    "l2 = max(l2, w2)\n",
    "w2 = min(l, w2)\n",
    "l=lc\n",
    "lc = max(lc, wc)\n",
    "wc = min(l, wc)\n",
    "if(l1<=lc and w1<=wc and l2<=lc and w2<=wc):\n",
    "    if(h1>hc or h2>hc):\n",
    "        print(\"NO\")\n",
    "        ind = False\n",
    "    if(ind and ind and l1<=lc and w1<=wc):\n",
    "        if(ind and l2<=wc-w1 and w2<=lc):\n",
    "            print(\"YES\")\n",
    "            ind = False\n",
    "        elif (ind and w2<=wc-w1 and l2<=lc):\n",
    "            print(\"YES\")\n",
    "            ind = False\n",
    "        elif (ind and l2<=lc-l1 and w2<=wc):\n",
    "            print(\"YES\")\n",
    "            ind = False\n",
    "        elif (ind and w2<=lc-l1 and l2<=wc):\n",
    "            print(\"YES\")\n",
    "            ind = False\n",
    "\n",
    "    if(ind and w1<=lc and l1<=wc):\n",
    "        if(ind and l2<=wc-l1 and w2<=lc):\n",
    "            print(\"YES\")\n",
    "            ind = False\n",
    "        elif (ind and l2<=lc and w2<=wc-l1):\n",
    "            print(\"YES\")\n",
    "            ind = False\n",
    "        elif (ind and l2<=lc-w1 and w2<=wc):\n",
    "            print(\"YES\")\n",
    "            ind = False\n",
    "        elif (ind and w2<=lc-w1 and l2<=wc):\n",
    "            print(\"YES\")\n",
    "            ind = False\n",
    "    if(ind and h1+h2<=hc and l1<=lc and w1<=wc and l2<=lc and w2<=wc):\n",
    "        print(\"YES\")\n",
    "        ind = False\n",
    "    elif (ind):\n",
    "        print(\"NO\")\n",
    "else:\n",
    "    print(\"NO\")"
   ]
  }
 ],
 "metadata": {
  "kernelspec": {
   "display_name": "Python 3",
   "language": "python",
   "name": "python3"
  },
  "language_info": {
   "codemirror_mode": {
    "name": "ipython",
    "version": 3
   },
   "file_extension": ".py",
   "mimetype": "text/x-python",
   "name": "python",
   "nbconvert_exporter": "python",
   "pygments_lexer": "ipython3",
   "version": "3.8.2"
  }
 },
 "nbformat": 4,
 "nbformat_minor": 4
}
