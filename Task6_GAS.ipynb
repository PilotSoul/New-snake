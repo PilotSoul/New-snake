{
 "cells": [
  {
   "cell_type": "markdown",
   "metadata": {},
   "source": [
    "# Практическая работа 8"
   ]
  },
  {
   "cell_type": "markdown",
   "metadata": {},
   "source": [
    "## Задание 1"
   ]
  },
  {
   "cell_type": "code",
   "execution_count": 1,
   "metadata": {},
   "outputs": [
    {
     "name": "stdout",
     "output_type": "stream",
     "text": [
      "3\n",
      "14\n"
     ]
    }
   ],
   "source": [
    "n = int(input())\n",
    " \n",
    "sum = 0\n",
    "for i in range(1, n + 1):\n",
    "    sum += i ** 2\n",
    " \n",
    "print(sum)"
   ]
  },
  {
   "cell_type": "markdown",
   "metadata": {},
   "source": [
    "## Задание 2"
   ]
  },
  {
   "cell_type": "code",
   "execution_count": 2,
   "metadata": {},
   "outputs": [
    {
     "name": "stdout",
     "output_type": "stream",
     "text": [
      "3\n",
      "+___ +___ +___ \n",
      "|1 / |2 / |3 / \n",
      "|__\\ |__\\ |__\\ \n",
      "|    |    |    \n"
     ]
    }
   ],
   "source": [
    "n = int(input())\n",
    "print('+___ ' * n)\n",
    "for i in range(1, n + 1):\n",
    "    print('|', i, ' / ', sep='', end='')\n",
    "print()\n",
    "print('|__\\\\ ' * n)\n",
    "print('|    ' * n)"
   ]
  },
  {
   "cell_type": "markdown",
   "metadata": {},
   "source": [
    "## Задание 3"
   ]
  },
  {
   "cell_type": "code",
   "execution_count": 3,
   "metadata": {},
   "outputs": [
    {
     "name": "stdout",
     "output_type": "stream",
     "text": [
      "1 2 3 4 5\n",
      "5 4 3 2 1 "
     ]
    }
   ],
   "source": [
    "s = input().split(' ')\n",
    "for i in reversed(s):\n",
    "    print(i, end=' ')"
   ]
  },
  {
   "cell_type": "markdown",
   "metadata": {},
   "source": [
    "## Задание 4"
   ]
  },
  {
   "cell_type": "code",
   "execution_count": 4,
   "metadata": {},
   "outputs": [
    {
     "name": "stdout",
     "output_type": "stream",
     "text": [
      "7 6 5 4 3 2 1\n",
      "2\n",
      "7 6 4 3 2 1\n"
     ]
    }
   ],
   "source": [
    "a = [int(s) for s in input().split()]\n",
    "k = int(input())\n",
    "for i in range(k + 1, len(a)):\n",
    "    a[i - 1] = a[i]\n",
    "a.pop()\n",
    "print(' '.join([str(i) for i in a]))"
   ]
  },
  {
   "cell_type": "markdown",
   "metadata": {},
   "source": [
    "## Задание 5"
   ]
  },
  {
   "cell_type": "code",
   "execution_count": 5,
   "metadata": {},
   "outputs": [
    {
     "name": "stdout",
     "output_type": "stream",
     "text": [
      "1 2 3 4 5\n",
      "2 1 4 3 5\n"
     ]
    }
   ],
   "source": [
    "a = [int(i) for i in input().split()]\n",
    "for i in range(1, len(a), 2):\n",
    "    a[i - 1], a[i] = a[i], a[i - 1]\n",
    "print(' '.join([str(i) for i in a]))"
   ]
  },
  {
   "cell_type": "markdown",
   "metadata": {},
   "source": [
    "## Задание 6"
   ]
  },
  {
   "cell_type": "code",
   "execution_count": 6,
   "metadata": {},
   "outputs": [
    {
     "name": "stdout",
     "output_type": "stream",
     "text": [
      "4 0 5 0 3 0 0 5\n",
      "4 5 3 5 0 0 0 0\n"
     ]
    }
   ],
   "source": [
    "lst = input().split()\n",
    "for i in reversed(range(len(lst))):\n",
    "    if lst[i] == '0':\n",
    "        lst.append(lst.pop(i))\n",
    "print(*lst)"
   ]
  }
 ],
 "metadata": {
  "kernelspec": {
   "display_name": "Python 3",
   "language": "python",
   "name": "python3"
  },
  "language_info": {
   "codemirror_mode": {
    "name": "ipython",
    "version": 3
   },
   "file_extension": ".py",
   "mimetype": "text/x-python",
   "name": "python",
   "nbconvert_exporter": "python",
   "pygments_lexer": "ipython3",
   "version": "3.8.2"
  }
 },
 "nbformat": 4,
 "nbformat_minor": 4
}
